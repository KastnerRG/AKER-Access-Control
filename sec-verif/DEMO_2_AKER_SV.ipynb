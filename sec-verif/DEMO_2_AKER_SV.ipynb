{
 "cells": [
  {
   "cell_type": "markdown",
   "metadata": {},
   "source": [
    " # **AKER SV: Demo #2 (AKER ACW Security Verification)**\n",
    " \n",
    " This notebook uses **AKER SV** to generate all of properties mentioned in the security verification sections of the [AKER paper](https://arxiv.org/abs/2106.13263).\n",
    " \n",
    " Refer to Demo #1 for an introduction on the basics of using **AKER SV**."
   ]
  },
  {
   "cell_type": "markdown",
   "metadata": {},
   "source": [
    "# Installing/Importing AKER SV"
   ]
  },
  {
   "cell_type": "code",
   "execution_count": 1,
   "metadata": {
    "scrolled": true
   },
   "outputs": [
    {
     "name": "stdout",
     "output_type": "stream",
     "text": [
      "Successfully installed aker-sv-0.1\n"
     ]
    }
   ],
   "source": [
    "#Install aker_sv from local files\n",
    "%cd aker_sv\n",
    "%pip install .\n",
    "%cd ../"
   ]
  },
  {
   "cell_type": "code",
   "execution_count": 2,
   "metadata": {},
   "outputs": [],
   "source": [
    "import aker_sv as aker"
   ]
  },
  {
   "cell_type": "markdown",
   "metadata": {},
   "source": [
    "# Creating a Project from a CSV File\n",
    "\n",
    "The following cell creates an **AKER SV** project from a csv file. This csv file contains all of the information from Steps 2 - 5 of each security verification level mentioned in the [AKER paper](https://arxiv.org/abs/2106.13263).\n",
    "\n",
    "Note that this csv file does not contain the assets column (for the sake of readibility) so the assets for the project will need to be defined before we can perform template expansion on the project."
   ]
  },
  {
   "cell_type": "code",
   "execution_count": 3,
   "metadata": {},
   "outputs": [],
   "source": [
    "sec_var_csv = \"./AKER_ACW.csv\"\n",
    "my_proj = aker.AKERProj(sec_var_csv)"
   ]
  },
  {
   "cell_type": "markdown",
   "metadata": {},
   "source": [
    "# Defining Assets for Security Properties"
   ]
  },
  {
   "cell_type": "markdown",
   "metadata": {},
   "source": [
    "Assets for SP 1"
   ]
  },
  {
   "cell_type": "code",
   "execution_count": 4,
   "metadata": {},
   "outputs": [],
   "source": [
    "# AXI4 Signal Pairs (`signal_from_P`, `signal_to_C`)\n",
    "p_to_c = [\n",
    "  (\"M_AXI_WREADY \", \"M_AXI_WREADY_wire\"),\n",
    "\n",
    "  (\"M_AXI_BID   \",  \"M_AXI_BID_wire   \"), \n",
    "  (\"M_AXI_BRESP \",  \"M_AXI_BRESP_wire \"), \n",
    "  (\"M_AXI_BUSER \",  \"M_AXI_BUSER_wire \"), \n",
    "  (\"M_AXI_BVALID\",  \"M_AXI_BVALID_wire\"),\n",
    "\n",
    "  (\"M_AXI_RID   \",  \"M_AXI_RID_wire   \"),\n",
    "  (\"M_AXI_RDATA \",  \"M_AXI_RDATA_wire \"),      \n",
    "  (\"M_AXI_RRESP \",  \"M_AXI_RRESP_wire \"),\n",
    "  (\"M_AXI_RLAST \",  \"M_AXI_RLAST_wire \"),     \n",
    "  (\"M_AXI_RUSER \",  \"M_AXI_RUSER_wire \"),     \n",
    "  (\"M_AXI_RVALID\",  \"M_AXI_RVALID_wire\")\n",
    "]\n",
    "\n",
    "my_proj.SPs[\"01\"].set_assets(p_to_c)"
   ]
  },
  {
   "cell_type": "markdown",
   "metadata": {},
   "source": [
    "Assets for SP 2"
   ]
  },
  {
   "cell_type": "code",
   "execution_count": 5,
   "metadata": {},
   "outputs": [],
   "source": [
    "# AXI4 Signal Pairs (`signal_from_C`, `signal_to_P`)\n",
    "c_to_p = [\n",
    "  (\"M_AXI_AWID_wire\", \"M_AXI_AWID_INT\"),\n",
    "  (\"M_AXI_AWADDR_wire\", \"M_AXI_AWADDR_INT\"),\n",
    "  (\"M_AXI_AWLEN_wire\", \"M_AXI_AWLEN_INT\"),\n",
    "  (\"M_AXI_AWSIZE_wire\", \"M_AXI_AWSIZE_INT\"),\n",
    "  (\"M_AXI_AWBURST_wire\", \"M_AXI_AWBURST_INT\"),\n",
    "  (\"M_AXI_AWLOCK_wire\", \"M_AXI_AWLOCK_INT\"),\n",
    "  (\"M_AXI_AWCACHE_wire\", \"M_AXI_AWCACHE_INT\"),\n",
    "  (\"M_AXI_AWPROT_wire\", \"M_AXI_AWPROT_INT\"),\n",
    "  (\"M_AXI_AWQOS_wire\", \"M_AXI_AWQOS_INT\"),\n",
    "  (\"M_AXI_AWUSER_wire\", \"M_AXI_AWUSER_INT\"),  \n",
    "\n",
    "  (\"M_AXI_WDATA_wire\", \"M_AXI_WDATA\"),\n",
    "  (\"M_AXI_WSTRB_wire\", \"M_AXI_WSTRB\"),  \n",
    "  (\"M_AXI_WLAST_wire\", \"M_AXI_WLAST\"),\n",
    "  (\"M_AXI_WUSER_wire\", \"M_AXI_WUSER\"),\n",
    "  (\"M_AXI_WVALID_wire\", \"M_AXI_WVALID\"),\n",
    "\n",
    "  (\"M_AXI_BREADY_wire\", \"M_AXI_BREADY\"),\n",
    "\n",
    "  (\"M_AXI_RREADY_wire\", \"M_AXI_RREADY\"),\n",
    "\n",
    "  (\"M_AXI_ARID_wire\",    \"M_AXI_ARID_INT\"),\n",
    "  (\"M_AXI_ARADDR_wire\", \"M_AXI_ARADDR_INT\"),\n",
    "  (\"M_AXI_ARLEN_wire\", \"M_AXI_ARLEN_INT\"),\n",
    "  (\"M_AXI_ARSIZE_wire\", \"M_AXI_ARSIZE_INT\"),\n",
    "  (\"M_AXI_ARBURST_wire\", \"M_AXI_ARBURST_INT\"),\n",
    "  (\"M_AXI_ARLOCK_wire\", \"M_AXI_ARLOCK_INT\"),\n",
    "  (\"M_AXI_ARCACHE_wire\", \"M_AXI_ARCACHE_INT\"),\n",
    "  (\"M_AXI_ARPROT_wire\", \"M_AXI_ARPROT_INT\"),\n",
    "  (\"M_AXI_ARQOS_wire\", \"M_AXI_ARQOS_INT\"),\n",
    "  (\"M_AXI_ARUSER_wire\", \"M_AXI_ARUSER_INT\")\n",
    "]\n",
    "\n",
    "my_proj.SPs[\"02\"].set_assets(c_to_p)"
   ]
  },
  {
   "cell_type": "markdown",
   "metadata": {},
   "source": [
    "Assets for SP 3"
   ]
  },
  {
   "cell_type": "code",
   "execution_count": 6,
   "metadata": {},
   "outputs": [],
   "source": [
    "# C's Incoming AXI4 Signals (`signal_to_C`, `default_AXI_value`)\n",
    "default_to_c = [\n",
    "  (\"M_AXI_WREADY_wire\", \"1\"),\n",
    "\n",
    "  (\"M_AXI_BID_wire   \", \"0\"), \n",
    "  (\"M_AXI_BRESP_wire \", \"2'b11\"), \n",
    "  (\"M_AXI_BUSER_wire \", \"0\"), \n",
    "  (\"M_AXI_BVALID_wire\", \"0\"),\n",
    "\n",
    "  (\"M_AXI_RID_wire   \", \"0\"),\n",
    "  (\"M_AXI_RDATA_wire \", \"0\"),      \n",
    "  (\"M_AXI_RRESP_wire \", \"2'b11\"),\n",
    "  (\"M_AXI_RLAST_wire \", \"1\"),     \n",
    "  (\"M_AXI_RUSER_wire \", \"0\"),     \n",
    "  (\"M_AXI_RVALID_wire\", \"0\")\n",
    "]\n",
    "\n",
    "my_proj.SPs[\"03\"].set_assets(default_to_c)"
   ]
  },
  {
   "cell_type": "markdown",
   "metadata": {},
   "source": [
    "Assets for SP 4"
   ]
  },
  {
   "cell_type": "code",
   "execution_count": 7,
   "metadata": {},
   "outputs": [],
   "source": [
    "# P's Incoming AXI4 Signals (`signal_to_P`, `default_AXI_value`)\n",
    "default_to_p = [\n",
    "  (\"M_AXI_AWID_INT\", \"0\"),\n",
    "  (\"M_AXI_AWADDR_INT\", \"0\"),\n",
    "  (\"M_AXI_AWLEN_INT\", \"0\"),\n",
    "  (\"M_AXI_AWSIZE_INT\", \"0\"),\n",
    "  (\"M_AXI_AWBURST_INT\", \"0\"),\n",
    "  (\"M_AXI_AWLOCK_INT\", \"0\"),\n",
    "  (\"M_AXI_AWCACHE_INT\", \"0\"),\n",
    "  (\"M_AXI_AWPROT_INT\", \"0\"),\n",
    "  (\"M_AXI_AWQOS_INT\", \"0\"),\n",
    "  (\"M_AXI_AWUSER_INT\", \"0\"),  \n",
    "\n",
    "  (\"M_AXI_WDATA\", \"0\"),\n",
    "  (\"M_AXI_WSTRB\", \"0\"),  \n",
    "  (\"M_AXI_WLAST\", \"0\"),\n",
    "  (\"M_AXI_WUSER\", \"0\"),\n",
    "  (\"M_AXI_WVALID\", \"0\"),\n",
    "\n",
    "  (\"M_AXI_BREADY\", \"0\"),\n",
    "\n",
    "  (\"M_AXI_RREADY\", \"0\"),\n",
    "\n",
    "  (\"M_AXI_ARID_INT\", \"0\"),\n",
    "  (\"M_AXI_ARADDR_INT\", \"0\"),\n",
    "  (\"M_AXI_ARLEN_INT\", \"0\"),\n",
    "  (\"M_AXI_ARSIZE_INT\", \"0\"),\n",
    "  (\"M_AXI_ARBURST_INT\", \"0\"),\n",
    "  (\"M_AXI_ARLOCK_INT\", \"0\"),\n",
    "  (\"M_AXI_ARCACHE_INT\", \"0\"),\n",
    "  (\"M_AXI_ARPROT_INT\", \"0\"),\n",
    "  (\"M_AXI_ARQOS_INT\", \"0\"),\n",
    "  (\"M_AXI_ARUSER_INT\", \"0\")\n",
    "]\n",
    "\n",
    "my_proj.SPs[\"04\"].set_assets(default_to_p)"
   ]
  },
  {
   "cell_type": "markdown",
   "metadata": {},
   "source": [
    "Assets for SP 5"
   ]
  },
  {
   "cell_type": "code",
   "execution_count": 8,
   "metadata": {},
   "outputs": [],
   "source": [
    "default_for_regs  = [(\"reg0{}_config\".format(i), \"0\")    for i in range (2)]\n",
    "default_for_regs += [(\"reg0{}_r_anomaly\".format(i), \"0\") for i in range (2,4)]\n",
    "default_for_regs += [(\"reg0{}_w_anomaly\".format(i), \"0\") for i in range (4,6)]\n",
    "default_for_regs += [(\"reg0{}_r_config\".format(i), \"0\")  for i in range (6,10)]\n",
    "default_for_regs += [(\"reg{}_r_config\".format(i), \"0\")   for i in range (10,22)]\n",
    "default_for_regs += [(\"reg{}_w_config\".format(i), \"0\")   for i in range (22,38)]\n",
    "\n",
    "my_proj.SPs[\"05\"].set_assets(default_for_regs)"
   ]
  },
  {
   "cell_type": "markdown",
   "metadata": {},
   "source": [
    "Assets for SP 6"
   ]
  },
  {
   "cell_type": "code",
   "execution_count": 9,
   "metadata": {},
   "outputs": [],
   "source": [
    "case_for_regs = (\n",
    "  '6\\'h00',\n",
    "  '6\\'h01',\n",
    "  '6\\'h02',\n",
    "  '6\\'h03',\n",
    "  '6\\'h04',\n",
    "  '6\\'h05',\n",
    "  '6\\'h06',\n",
    "  '6\\'h07',\n",
    "  '6\\'h08',\n",
    "  '6\\'h09',\n",
    "  '6\\'h0A',\n",
    "  '6\\'h0B',\n",
    "  '6\\'h0C',\n",
    "  '6\\'h0D',\n",
    "  '6\\'h0E',\n",
    "  '6\\'h0F',\n",
    "  '6\\'h10',\n",
    "  '6\\'h11',\n",
    "  '6\\'h12',\n",
    "  '6\\'h13',\n",
    "  '6\\'h14',\n",
    "  '6\\'h15',\n",
    "  '6\\'h16',\n",
    "  '6\\'h17',\n",
    "  '6\\'h18',\n",
    "  '6\\'h19',\n",
    "  '6\\'h1A',\n",
    "  '6\\'h1B',\n",
    "  '6\\'h1C',\n",
    "  '6\\'h1D',\n",
    "  '6\\'h1E',\n",
    "  '6\\'h1F',\n",
    "  '6\\'h20',\n",
    "  '6\\'h21',\n",
    "  '6\\'h22',\n",
    "  '6\\'h23',\n",
    "  '6\\'h24',\n",
    "  '6\\'h25'\n",
    ")\n",
    "\n",
    "te_to_regs  = tuple((\"S_AXI_CTRL_WDATA\", case_for_regs[i], \"reg0{}_config\".format(i)) for i in range (2))\n",
    "te_to_regs += tuple((\"S_AXI_CTRL_WDATA\", case_for_regs[i], \"reg0{}_r_anomaly\".format(i)) for i in range (2,4))\n",
    "te_to_regs += tuple((\"S_AXI_CTRL_WDATA\", case_for_regs[i], \"reg0{}_w_anomaly\".format(i)) for i in range (4,6))\n",
    "te_to_regs += tuple((\"S_AXI_CTRL_WDATA\", case_for_regs[i], \"reg0{}_r_config\".format(i)) for i in range (6,10))\n",
    "te_to_regs += tuple((\"S_AXI_CTRL_WDATA\", case_for_regs[i], \"reg{}_r_config\".format(i)) for i in range (10,22))\n",
    "te_to_regs += tuple((\"S_AXI_CTRL_WDATA\", case_for_regs[i], \"reg{}_w_config\".format(i)) for i in range (22,38))\n",
    "\n",
    "te_to_aregs =  tuple((\"S_AXI_CTRL_WDATA\".format(i), case_for_regs[i], \"reg0{}_r_anomaly\".format(i)) for i in range (2,4))\n",
    "te_to_aregs += tuple((\"S_AXI_CTRL_WDATA\".format(i), case_for_regs[i], \"reg0{}_w_anomaly\".format(i)) for i in range (4,6))\n",
    "te_to_aregs = list(te_to_aregs)\n",
    "\n",
    "my_proj.SPs[\"06\"].set_assets(te_to_aregs)"
   ]
  },
  {
   "cell_type": "markdown",
   "metadata": {},
   "source": [
    "Assets for SP 7, 14"
   ]
  },
  {
   "cell_type": "code",
   "execution_count": 10,
   "metadata": {},
   "outputs": [],
   "source": [
    "p_to_c_acw = list()\n",
    "for p,c in p_to_c:\n",
    "  if ((\"_AW\" in p) and (\"_AW\" in c)) or ((\"_W\" in p) and (\"_W\" in c)):\n",
    "    p_to_c_acw.append((p, \"acw_w_state\",c))\n",
    "  elif ((\"_AR\" in p) and (\"_AR\" in c)) or ((\"_R\" in p) and (\"_R\" in c)):\n",
    "    p_to_c_acw.append((p, \"acw_r_state\",c))\n",
    "    \n",
    "my_proj.SPs[\"07\"].set_assets(p_to_c_acw)\n",
    "my_proj.SPs[\"14\"].set_assets(p_to_c_acw)"
   ]
  },
  {
   "cell_type": "markdown",
   "metadata": {},
   "source": [
    "Assets for SP 8, 15"
   ]
  },
  {
   "cell_type": "code",
   "execution_count": 11,
   "metadata": {},
   "outputs": [],
   "source": [
    "c_to_p_acw = list()\n",
    "for c,p in c_to_p:\n",
    "  if ((\"_AW\" in p) and (\"_AW\" in c)) or ((\"_W\" in p) and (\"_W\" in c)):\n",
    "    c_to_p_acw.append((p, \"acw_w_state\",c))\n",
    "  elif ((\"_AR\" in p) and (\"_AR\" in c)) or ((\"_R\" in p) and (\"_R\" in c)):\n",
    "    c_to_p_acw.append((p, \"acw_r_state\",c))\n",
    "\n",
    "my_proj.SPs[\"08\"].set_assets(c_to_p_acw)\n",
    "my_proj.SPs[\"15\"].set_assets(c_to_p_acw)    "
   ]
  },
  {
   "cell_type": "markdown",
   "metadata": {},
   "source": [
    "Assets for SP 9, 16"
   ]
  },
  {
   "cell_type": "code",
   "execution_count": 12,
   "metadata": {},
   "outputs": [],
   "source": [
    "default_to_c_acw = list()\n",
    "for c,v in default_to_c:\n",
    "  if (\"_AW\" in c) or (\"_W\" in c):\n",
    "    default_to_c_acw.append((c, \"acw_w_state\",v))\n",
    "  elif (\"_AR\" in c) or (\"_R\" in c):\n",
    "    default_to_c_acw.append((c, \"acw_r_state\",v))\n",
    "    \n",
    "my_proj.SPs[\"09\"].set_assets(default_to_c_acw)\n",
    "my_proj.SPs[\"16\"].set_assets(default_to_c_acw)"
   ]
  },
  {
   "cell_type": "markdown",
   "metadata": {},
   "source": [
    "Assets for SP 10, 17"
   ]
  },
  {
   "cell_type": "code",
   "execution_count": 13,
   "metadata": {},
   "outputs": [],
   "source": [
    "default_to_p_acw = list()\n",
    "for p,v in default_to_p:\n",
    "  if (\"_AW\" in p) or (\"_W\" in p):\n",
    "    default_to_p_acw.append((p, \"acw_w_state\",v))\n",
    "  elif (\"_AR\" in p) or (\"_R\" in p):\n",
    "    default_to_p_acw.append((p, \"acw_r_state\",v))\n",
    "\n",
    "my_proj.SPs[\"10\"].set_assets(default_to_p_acw)\n",
    "my_proj.SPs[\"17\"].set_assets(default_to_p_acw)    "
   ]
  },
  {
   "cell_type": "markdown",
   "metadata": {},
   "source": [
    "Assets for SP 11"
   ]
  },
  {
   "cell_type": "code",
   "execution_count": 14,
   "metadata": {},
   "outputs": [],
   "source": [
    "# 38 Total unauthorized signals (M AXI to/from C)\n",
    "# \n",
    "# For the 34 config regs \n",
    "# only 1 sig is authorized (S_AXI_CTRL_WDATA)\n",
    "# so 34 * 38\n",
    "# \n",
    "# For the anomaly regs (reg02_r_anomaly and reg04_w_anomaly)\n",
    "# only 1 sig is authorized for each\n",
    "r2_auth = [\"M_AXI_ARADDR_wire\"]\n",
    "r4_auth = [\"M_AXI_AWADDR_wire\"]\n",
    "# so 2 * 37\n",
    "# \n",
    "# For the anomaly regs (reg03_r_anomaly and reg05_w_anomaly)\n",
    "# 5 sigs are authorized for each\n",
    "r3_auth = [\"M_AXI_ARLEN_wire\", \"M_AXI_ARID_wire\", \"M_AXI_ARPROT_wire\", \"M_AXI_ARCACHE_wire\", \"M_AXI_ARLOCK_wire\"]\n",
    "r5_auth = [\"M_AXI_AWLEN_wire\", \"M_AXI_AWID_wire\", \"M_AXI_AWPROT_wire\", \"M_AXI_AWCACHE_wire\", \"M_AXI_AWLOCK_wire\"]\n",
    "# so 2 * 33\n",
    "#\n",
    "# Extremely focused total 1,432\n",
    "\n",
    "unauthorized  = [sig_pair[1] for sig_pair in p_to_c]\n",
    "unauthorized += [sig_pair[0] for sig_pair in c_to_p]\n",
    "\n",
    "assets_11 = list()\n",
    "for u_sig in unauthorized:\n",
    "  for reg, def_val in default_for_regs:\n",
    "    if (reg == \"reg02_r_anomaly\") and (u_sig in r2_auth):\n",
    "      pass\n",
    "    elif (reg == \"reg03_r_anomaly\") and (u_sig in r3_auth):\n",
    "      pass\n",
    "    elif (reg == \"reg04_w_anomaly\") and (u_sig in r4_auth):\n",
    "      pass\n",
    "    elif (reg == \"reg05_w_anomaly\") and (u_sig in r5_auth):\n",
    "      pass\n",
    "    else:\n",
    "      assets_11.append((u_sig, reg, def_val, reg, reg, def_val))\n",
    "      \n",
    "my_proj.SPs[\"11\"].set_assets(assets_11)"
   ]
  },
  {
   "cell_type": "markdown",
   "metadata": {},
   "source": [
    "Assets for SP 12"
   ]
  },
  {
   "cell_type": "code",
   "execution_count": 15,
   "metadata": {},
   "outputs": [],
   "source": [
    "assets_12 = list()\n",
    "for p,c in p_to_c:\n",
    "  if ((\"_AW\" in p) and (\"_AW\" in c)) or ((\"_W\" in p) and (\"_W\" in c)):\n",
    "    assets_12.append((p, \"acw_w_state\", \"AW_ADDR_VALID_FLAG\",c))\n",
    "  elif ((\"_AR\" in p) and (\"_AR\" in c)) or ((\"_R\" in p) and (\"_R\" in c)):\n",
    "    assets_12.append((p, \"acw_r_state\", \"AR_ADDR_VALID_FLAG\",c))\n",
    "    \n",
    "my_proj.SPs[\"12\"].set_assets(assets_12)"
   ]
  },
  {
   "cell_type": "markdown",
   "metadata": {},
   "source": [
    "Assets for SP 13"
   ]
  },
  {
   "cell_type": "code",
   "execution_count": 16,
   "metadata": {},
   "outputs": [],
   "source": [
    "assets_13 = list()\n",
    "for c,p in c_to_p:\n",
    "  if ((\"_AW\" in p) and (\"_AW\" in c)) or ((\"_W\" in p) and (\"_W\" in c)):\n",
    "    assets_13.append((c, \"acw_w_state\", \"AW_ADDR_VALID_FLAG\",p))\n",
    "  elif ((\"_AR\" in p) and (\"_AR\" in c)) or ((\"_R\" in p) and (\"_R\" in c)):\n",
    "    assets_13.append((c, \"acw_r_state\", \"AR_ADDR_VALID_FLAG\",p))\n",
    "    \n",
    "my_proj.SPs[\"13\"].set_assets(assets_13)"
   ]
  },
  {
   "cell_type": "markdown",
   "metadata": {},
   "source": [
    "Assets for SP 18"
   ]
  },
  {
   "cell_type": "code",
   "execution_count": 17,
   "metadata": {},
   "outputs": [],
   "source": [
    "assets_18 = list()\n",
    "\n",
    "authorized = r2_auth + r3_auth + r4_auth + r5_auth\n",
    "\n",
    "acw_r = \"acw_r_state\"\n",
    "acw_w = \"acw_w_state\"\n",
    "\n",
    "assets_18  = [ (sig, acw_r, \"reg02_r_anomaly\", acw_r) for sig in r2_auth]\n",
    "assets_18 += [ (sig, acw_r, \"reg03_r_anomaly\", acw_r) for sig in r3_auth]\n",
    "assets_18 += [ (sig, acw_w, \"reg04_w_anomaly\", acw_w) for sig in r4_auth]\n",
    "assets_18 += [ (sig, acw_w, \"reg05_w_anomaly\", acw_w) for sig in r5_auth]\n",
    "\n",
    "my_proj.SPs[\"18\"].set_assets(assets_18)"
   ]
  },
  {
   "cell_type": "markdown",
   "metadata": {},
   "source": [
    "Assets for SP 19"
   ]
  },
  {
   "cell_type": "code",
   "execution_count": 18,
   "metadata": {},
   "outputs": [],
   "source": [
    "assets_19 = [\n",
    "  (\"INTR_LINE_R\", acw_r),\n",
    "  (\"INTR_LINE_W\", acw_w)\n",
    "]\n",
    "\n",
    "my_proj.SPs[\"19\"].set_assets(assets_19)"
   ]
  },
  {
   "cell_type": "markdown",
   "metadata": {},
   "source": [
    "Assets for SP 20"
   ]
  },
  {
   "cell_type": "code",
   "execution_count": 19,
   "metadata": {},
   "outputs": [],
   "source": [
    "assets_20 = list()\n",
    "\n",
    "for unauth_pair in [(\"acw1.\", \"p3.\"), (\"acw2.\", \"p1.\")]:\n",
    "  for _,c in p_to_c:\n",
    "    p_x = unauth_pair[1] + c.replace(\"M_AXI\", \"S_AXI\").replace(\"_wire\", \"\")\n",
    "    c_x = unauth_pair[0] + c\n",
    "    assets_20.append((p_x,c_x))\n",
    "    \n",
    "my_proj.SPs[\"20\"].set_assets(assets_20)"
   ]
  },
  {
   "cell_type": "markdown",
   "metadata": {},
   "source": [
    "Assets for SP 21"
   ]
  },
  {
   "cell_type": "code",
   "execution_count": 20,
   "metadata": {},
   "outputs": [],
   "source": [
    "assets_21 = list()\n",
    "\n",
    "for unauth_pair in [(\"acw1.\", \"p3.\"), (\"acw2.\", \"p1.\")]:\n",
    "  for c,_ in c_to_p:\n",
    "    p_x = unauth_pair[1] + c.replace(\"M_AXI\", \"S_AXI\").replace(\"_wire\", \"\")\n",
    "    c_x = unauth_pair[0] + c\n",
    "    assets_21.append((c_x,p_x))\n",
    "    \n",
    "my_proj.SPs[\"21\"].set_assets(assets_21)"
   ]
  },
  {
   "cell_type": "markdown",
   "metadata": {},
   "source": [
    "# Performing Template Expansion on the AKER Project\n",
    "\n",
    "The following cell performs a template expansion on the project. By default, `expand_templates()` will create an output directory with the prefix `aker_sps` in the current working directory. This directory will contain a `.as` file for each SP object that is expanded.  "
   ]
  },
  {
   "cell_type": "code",
   "execution_count": 21,
   "metadata": {},
   "outputs": [
    {
     "name": "stdout",
     "output_type": "stream",
     "text": [
      "[AKERProj.expand_templates] No output_path specified. Creating output at ./aker_sps\n"
     ]
    }
   ],
   "source": [
    "my_proj.expand_templates()"
   ]
  },
  {
   "cell_type": "code",
   "execution_count": 22,
   "metadata": {},
   "outputs": [
    {
     "name": "stdout",
     "output_type": "stream",
     "text": [
      "AKERProj Template Expansion Stats\n",
      "|-- Specific SPs Generated\n",
      "|   |-- Total = 1805 ( 100%) | IFT = 1661 (92.0%) | Trace = 144 (7.97%)\n",
      "|-- Breakdown by SP_ID\n",
      "    |-- Total =   11 (0.60%) | IFT =   11 (0.66%) | Trace =   0 ( 0.0%) | SP-ID = 01\n",
      "    |-- Total =   27 (1.49%) | IFT =   27 (1.62%) | Trace =   0 ( 0.0%) | SP-ID = 02\n",
      "    |-- Total =   11 (0.60%) | IFT =    0 ( 0.0%) | Trace =  11 (7.63%) | SP-ID = 03\n",
      "    |-- Total =   27 (1.49%) | IFT =    0 ( 0.0%) | Trace =  27 (18.7%) | SP-ID = 04\n",
      "    |-- Total =   38 (2.10%) | IFT =    0 ( 0.0%) | Trace =  38 (26.3%) | SP-ID = 05\n",
      "    |-- Total =    4 (0.22%) | IFT =    4 (0.24%) | Trace =   0 ( 0.0%) | SP-ID = 06\n",
      "    |-- Total =    7 (0.38%) | IFT =    7 (0.42%) | Trace =   0 ( 0.0%) | SP-ID = 07\n",
      "    |-- Total =   26 (1.44%) | IFT =   26 (1.56%) | Trace =   0 ( 0.0%) | SP-ID = 08\n",
      "    |-- Total =    7 (0.38%) | IFT =    0 ( 0.0%) | Trace =   7 (4.86%) | SP-ID = 09\n",
      "    |-- Total =   26 (1.44%) | IFT =    0 ( 0.0%) | Trace =  26 (18.0%) | SP-ID = 10\n",
      "    |-- Total = 1432 (79.3%) | IFT = 1432 (86.2%) | Trace =   0 ( 0.0%) | SP-ID = 11\n",
      "    |-- Total =    7 (0.38%) | IFT =    7 (0.42%) | Trace =   0 ( 0.0%) | SP-ID = 12\n",
      "    |-- Total =   26 (1.44%) | IFT =   26 (1.56%) | Trace =   0 ( 0.0%) | SP-ID = 13\n",
      "    |-- Total =    7 (0.38%) | IFT =    7 (0.42%) | Trace =   0 ( 0.0%) | SP-ID = 14\n",
      "    |-- Total =   26 (1.44%) | IFT =   26 (1.56%) | Trace =   0 ( 0.0%) | SP-ID = 15\n",
      "    |-- Total =    7 (0.38%) | IFT =    0 ( 0.0%) | Trace =   7 (4.86%) | SP-ID = 16\n",
      "    |-- Total =   26 (1.44%) | IFT =    0 ( 0.0%) | Trace =  26 (18.0%) | SP-ID = 17\n",
      "    |-- Total =   12 (0.66%) | IFT =   12 (0.72%) | Trace =   0 ( 0.0%) | SP-ID = 18\n",
      "    |-- Total =    2 (0.11%) | IFT =    0 ( 0.0%) | Trace =   2 (1.38%) | SP-ID = 19\n",
      "    |-- Total =   22 (1.21%) | IFT =   22 (1.32%) | Trace =   0 ( 0.0%) | SP-ID = 20\n",
      "    |-- Total =   54 (2.99%) | IFT =   54 (3.25%) | Trace =   0 ( 0.0%) | SP-ID = 21\n",
      "\n"
     ]
    }
   ],
   "source": [
    "print(my_proj.get_expansion_stats())"
   ]
  }
 ],
 "metadata": {
  "kernelspec": {
   "display_name": "Python 3",
   "language": "python",
   "name": "python3"
  },
  "language_info": {
   "codemirror_mode": {
    "name": "ipython",
    "version": 3
   },
   "file_extension": ".py",
   "mimetype": "text/x-python",
   "name": "python",
   "nbconvert_exporter": "python",
   "pygments_lexer": "ipython3",
   "version": "3.7.4"
  }
 },
 "nbformat": 4,
 "nbformat_minor": 4
}
