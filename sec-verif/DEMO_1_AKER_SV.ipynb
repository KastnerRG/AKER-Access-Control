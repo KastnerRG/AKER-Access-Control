{
 "cells": [
  {
   "cell_type": "markdown",
   "metadata": {},
   "source": [
    " # **AKER SV: Demo #1 (Project from Scratch)**\n",
    " \n",
    " This notebook will outline the basic functionality of **AKER SV** by building a verification project from scratch."
   ]
  },
  {
   "cell_type": "markdown",
   "metadata": {},
   "source": [
    "# Installing/Importing AKER SV"
   ]
  },
  {
   "cell_type": "code",
   "execution_count": 1,
   "metadata": {
    "scrolled": true
   },
   "outputs": [
    {
     "name": "stdout",
     "output_type": "stream",
     "text": [
      "Successfully installed aker-sv-0.1\n"
     ]
    }
   ],
   "source": [
    "#Install aker_sv from local files\n",
    "%cd aker_sv\n",
    "%pip install .\n",
    "%cd ../"
   ]
  },
  {
   "cell_type": "code",
   "execution_count": 2,
   "metadata": {},
   "outputs": [],
   "source": [
    "import aker_sv as aker"
   ]
  },
  {
   "cell_type": "markdown",
   "metadata": {},
   "source": [
    "# Creating an Empty Project\n",
    "\n",
    "The following cell creates an empty **AKER SV** project. Refer to the final section of this python notebook or (Demo #2) to see another way of creating a project."
   ]
  },
  {
   "cell_type": "code",
   "execution_count": 3,
   "metadata": {},
   "outputs": [],
   "source": [
    "my_proj = aker.AKERProj()"
   ]
  },
  {
   "cell_type": "markdown",
   "metadata": {},
   "source": [
    "# Defining Threat Model (Optional)\n",
    "\n",
    "**AKER SV** enables you to define a threat model for your project. This threat model has no impact on the automated property generation process (i.e., template expansion). However, the threat model will be present in the auto-generated html documentation for the project (available in version 0.1.1). \n",
    "\n",
    "The following cell demonstrates defining a threat model for your project."
   ]
  },
  {
   "cell_type": "code",
   "execution_count": 4,
   "metadata": {},
   "outputs": [],
   "source": [
    "example_threat_model = \\\n",
    "\"We consider an integrity scenario where C is untrusted and the ACW and P are trusted.\\\n",
    "Therefore, the threat model considers C's ability to communicate with P via the ACW in\\\n",
    "a manner which does not adhere to the statically-configured LACP\"\n",
    "\n",
    "my_proj.set_threat_model(example_threat_model)"
   ]
  },
  {
   "cell_type": "markdown",
   "metadata": {},
   "source": [
    "# Creating a Security Property\n",
    "\n",
    "Among other things, an **AKER SV** project stores a collection of security property objects `aker_sv.SecProp()`. Each `SecProp()` object has the following fields:\n",
    "* `id` - a string specifying an ID\n",
    "* `CWEs` - a list of strings where each element is an ID for a relevant Mitre CWE\n",
    "* `requirement` - a string specifying a plain-language security requirement\n",
    "* `template` - a string specifying a security property template with generic signals/values to replace\n",
    "* `type` - a string specifying the type of the security property (auto-generated based on provided template [IFT or Trace])\n",
    "* `assets` - a list where each element is a tuple of n strings (n is equal to the number of generic signals/values to replace)\n",
    "* `expansion_total` - an integer specifying the total number of expanded security properties (auto-generated after template expansion)\n",
    "\n",
    "Of these fields, the only fields that must be set in order to generate specific properties from a property template are: `id`, `template`, and `assets`.\n",
    "\n",
    "The following cells demonstrate:\n",
    "* creating an empty `SecProp()` object\n",
    "* setting the object's required fields\n",
    "* generating specific properties via template expansion\n",
    "\n",
    "The first cell defines an information flow tracking (IFT) security property and the second cell defines a regular trace/functional security property. Properties are specified in Tortuga Logic's Sentinel security language. "
   ]
  },
  {
   "cell_type": "code",
   "execution_count": 5,
   "metadata": {
    "scrolled": true
   },
   "outputs": [
    {
     "name": "stdout",
     "output_type": "stream",
     "text": [
      "SP01_0: assert iflow(\n",
      "  sig_a =/=> sig_b\n",
      ");\n",
      "\n",
      "\n",
      "SP01_1: assert iflow(\n",
      "  sig_c =/=> sig_d\n",
      ");\n",
      "\n",
      "\n",
      "SP01_2: assert iflow(\n",
      "  sig_e =/=> sig_f\n",
      ");\n",
      "\n",
      "\n",
      "SP01_3: assert iflow(\n",
      "  sig_g =/=> sig_h\n",
      ");\n",
      "\n",
      "\n",
      "SP01_4: assert iflow(\n",
      "  sig_i =/=> sig_j\n",
      ");\n",
      "\n",
      "\n"
     ]
    }
   ],
   "source": [
    "#####################\n",
    "# Multi Line Approach + write generated SPs to console\n",
    "#####################\n",
    "sp_1 = aker.SecProp()\n",
    "\n",
    "sp_1.set_id(\"01\")\n",
    "\n",
    "template =\\\n",
    "'''\n",
    "SP01_GENERIC: assert iflow(\n",
    "  `sig_x` =/=> `sig_y`\n",
    ");\n",
    "'''\n",
    "sp_1.set_template(template)\n",
    "\n",
    "assets = [\n",
    "  (\"sig_a\", \"sig_b\"),\n",
    "  (\"sig_c\", \"sig_d\"),\n",
    "  (\"sig_e\", \"sig_f\"), \n",
    "  (\"sig_g\", \"sig_h\"),\n",
    "  (\"sig_i\", \"sig_j\"),\n",
    "]\n",
    "sp_1.set_assets(assets)\n",
    "\n",
    "sp_1.expand_template()\n",
    "\n",
    "######################\n",
    "# Single Line Approach + write generated SPs to file\n",
    "######################\n",
    "aker.SecProp(sp_id=\"01\", temp=template, assets=assets).expand_template(\"SP_01.as\")"
   ]
  },
  {
   "cell_type": "code",
   "execution_count": 6,
   "metadata": {
    "scrolled": true
   },
   "outputs": [
    {
     "name": "stdout",
     "output_type": "stream",
     "text": [
      "SP02_0: assert iflow(\n",
      "  sig_a == sig_b\n",
      ");\n",
      "\n",
      "\n",
      "SP02_1: assert iflow(\n",
      "  sig_c == sig_d\n",
      ");\n",
      "\n",
      "\n",
      "SP02_2: assert iflow(\n",
      "  sig_e == sig_f\n",
      ");\n",
      "\n",
      "\n",
      "SP02_3: assert iflow(\n",
      "  sig_g == sig_h\n",
      ");\n",
      "\n",
      "\n",
      "SP02_4: assert iflow(\n",
      "  sig_i == sig_j\n",
      ");\n",
      "\n",
      "\n"
     ]
    }
   ],
   "source": [
    "#####################\n",
    "# Multi Line Approach + write generated SPs to console\n",
    "#####################\n",
    "sp_2 = aker.SecProp()\n",
    "\n",
    "sp_2.set_id(\"02\")\n",
    "\n",
    "template =\\\n",
    "'''\n",
    "SP02_GENERIC: assert iflow(\n",
    "  `sig_x` == `sig_y`\n",
    ");\n",
    "'''\n",
    "sp_2.set_template(template)\n",
    "\n",
    "assets = [\n",
    "  (\"sig_a\", \"sig_b\"),\n",
    "  (\"sig_c\", \"sig_d\"),\n",
    "  (\"sig_e\", \"sig_f\"), \n",
    "  (\"sig_g\", \"sig_h\"),\n",
    "  (\"sig_i\", \"sig_j\"),\n",
    "]\n",
    "sp_2.set_assets(assets)\n",
    "\n",
    "sp_2.expand_template()\n",
    "\n",
    "######################\n",
    "# Single Line Approach + write generated SPs to file\n",
    "######################\n",
    "aker.SecProp(sp_id=\"02\", temp=template, assets=assets).expand_template(\"SP_02.as\")"
   ]
  },
  {
   "cell_type": "markdown",
   "metadata": {},
   "source": [
    "# Adding a Security Property to an AKER Project\n",
    "\n",
    "As mentioned, an **AKER SV** project stores a collection of security property objects `aker_sv.SecProp()`. More specifically, these SPs are stored in a python dictionary `AKERProj().SPs` where an SP's `id` is the key and the SP (i.e., the `SecProp()` object itself) is the value.\n",
    "\n",
    "Adding an SP to your project is as simple as calling your project's `AKERProj().add_sec_prop()` function. Although you can directly insert key-value pairs into the SP dictionary, like so `AKERProj().SPs[key] = value`, it is highly recommend that you utilize `add_sec_prop()` because of the built-in protections/checks that are performed.  \n",
    "\n",
    "\n",
    "The following cells demonstrate:\n",
    "* adding multiple security properties to a project "
   ]
  },
  {
   "cell_type": "code",
   "execution_count": 7,
   "metadata": {},
   "outputs": [],
   "source": [
    "my_proj.add_sec_prop(sp_1)\n",
    "my_proj.add_sec_prop(sp_2)"
   ]
  },
  {
   "cell_type": "markdown",
   "metadata": {},
   "source": [
    "# Performing Template Expansion with an AKER Project\n",
    "\n",
    "If you would like to perform template expansion on all SPs in a AKER Project at once, you can call your project's `AKERProj().expand_templates()` function.\n",
    "\n",
    "Note that if any SP does not have its `id`, `template`, and `assets` field set the property will be skipped during template expansion.\n",
    "\n",
    "By default, `expand_templates()` will create an output directory with the prefix `aker_sps` in the current working directory. This directory will contain a `.as` file for each SP object that is expanded.  "
   ]
  },
  {
   "cell_type": "code",
   "execution_count": 8,
   "metadata": {},
   "outputs": [
    {
     "name": "stdout",
     "output_type": "stream",
     "text": [
      "[AKERProj.expand_templates] No output_path specified. Creating output at ./aker_sps\n"
     ]
    }
   ],
   "source": [
    "my_proj.expand_templates()"
   ]
  },
  {
   "cell_type": "markdown",
   "metadata": {},
   "source": [
    "# Exporting/Importing an AKER Project\n",
    "\n",
    "**AKER SV** projects support exporting to and importing from a csv file. \n",
    "\n",
    "To export a project to csv, call the project's `AKERProj().to_csv()` function with an output file path string as input. The resulting `.csv` will be structured as shown in the table below. Certain cells may be empty if certain SP fields were not set or if template expansion was not performed. \n",
    "\n",
    "SP ID | Related CWEs | SP Requirement | SP Specification Template | SP Type | SP Assets | Total SPs After Expanding|\n",
    "------|--------------|----------------|---------------------------|---------|-----------|--------------------------|\n",
    "------|--------------|----------------|---------------------------|---------|-----------|--------------------------|\n",
    "------|--------------|----------------|---------------------------|---------|-----------|--------------------------|\n",
    "\n",
    "\n",
    "To import a project from csv, call the `AKERProj().from_csv()` function with the csv file path string as input. The imported `.csv` must be structured as shown in one of the two table below. Cells can be empty but the first 4 or 5 columns of the header row must match what is shown.   \n",
    "\n",
    "SP ID | Related CWEs | SP Requirement | SP Specification Template | SP Type |\n",
    "------|--------------|----------------|---------------------------|---------|\n",
    "------|--------------|----------------|---------------------------|---------|\n",
    "------|--------------|----------------|---------------------------|---------|\n",
    "\n",
    "\n",
    "SP ID | Related CWEs | SP Requirement | SP Specification Template | SP Type | SP Assets |\n",
    "------|--------------|----------------|---------------------------|---------|-----------|\n",
    "------|--------------|----------------|---------------------------|---------|-----------|\n",
    "------|--------------|----------------|---------------------------|---------|-----------|\n",
    "\n",
    "The following cell demonstrates:\n",
    "* exporting a project\n",
    "* importing a project"
   ]
  },
  {
   "cell_type": "code",
   "execution_count": 9,
   "metadata": {},
   "outputs": [],
   "source": [
    "my_proj.to_csv(\"aker_sv_demo_1.csv\", with_assets=True)\n",
    "\n",
    "my_proj2 = aker.AKERProj(\"aker_sv_demo_1.csv\")\n",
    "\n",
    "# Uncomment the lines below to compare the SPs of each project to check for project equality\n",
    "#my_proj2.expand_templates()\n",
    "#print(\"Import Successful = {}\".format(list(my_proj.SPs.values()) == list(my_proj2.SPs.values())))"
   ]
  }
 ],
 "metadata": {
  "kernelspec": {
   "display_name": "Python 3",
   "language": "python",
   "name": "python3"
  },
  "language_info": {
   "codemirror_mode": {
    "name": "ipython",
    "version": 3
   },
   "file_extension": ".py",
   "mimetype": "text/x-python",
   "name": "python",
   "nbconvert_exporter": "python",
   "pygments_lexer": "ipython3",
   "version": "3.7.4"
  }
 },
 "nbformat": 4,
 "nbformat_minor": 4
}
